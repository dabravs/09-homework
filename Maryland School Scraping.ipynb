{
 "cells": [
  {
   "cell_type": "code",
   "execution_count": 1,
   "id": "d4cd3cbf",
   "metadata": {},
   "outputs": [],
   "source": [
    "import pandas as pd\n",
    "from bs4 import BeautifulSoup\n",
    "import requests"
   ]
  },
  {
   "cell_type": "code",
   "execution_count": 2,
   "id": "1a53fc48",
   "metadata": {},
   "outputs": [],
   "source": [
    "response = requests.get(\"https://www.marylandpublicschools.org/stateboard/Pages/Meetings-2018.aspx\")\n",
    "doc = BeautifulSoup(response.text)\n"
   ]
  },
  {
   "cell_type": "code",
   "execution_count": 3,
   "id": "22ee453f",
   "metadata": {},
   "outputs": [
    {
     "data": {
      "text/plain": [
       "'January 29, 2018 '"
      ]
     },
     "execution_count": 3,
     "metadata": {},
     "output_type": "execute_result"
    }
   ],
   "source": [
    "# Tier 1: Scrape the date, URL to agenda, URL to board minutes\n",
    "doc.find_all(\"strong\")[2].text"
   ]
  },
  {
   "cell_type": "code",
   "execution_count": 4,
   "id": "9b9b7b10",
   "metadata": {},
   "outputs": [
    {
     "data": {
      "text/plain": [
       "'/stateboard/Pages/meeting-agendas/2018-01-29.aspx'"
      ]
     },
     "execution_count": 4,
     "metadata": {},
     "output_type": "execute_result"
    }
   ],
   "source": [
    "doc.find_all('tr')[2].find_all('td')[1].find('a').get('href')"
   ]
  },
  {
   "cell_type": "code",
   "execution_count": 5,
   "id": "b0212751",
   "metadata": {},
   "outputs": [],
   "source": [
    "#doc.find_all(\"strong\")[2:].text\n",
    "# starts at the second one, so for loop has to start 2:"
   ]
  },
  {
   "cell_type": "code",
   "execution_count": 6,
   "id": "d0fdfdba",
   "metadata": {},
   "outputs": [
    {
     "data": {
      "text/plain": [
       "[<strong>Notice:</strong>,\n",
       " <strong> </strong>,\n",
       " <strong>January 29, 2018<br/> </strong>,\n",
       " <strong>January 30, 2018<br/> </strong>,\n",
       " <strong>February 27, 2018</strong>,\n",
       " <strong>March 20, 2018<br/> </strong>,\n",
       " <strong>\n",
       " <font color=\"#000000\" face=\"Verdana, Arial, Helvetica, sans-serif\" size=\"2\">April 24, 2018</font></strong>,\n",
       " <strong>\n",
       " <font color=\"#000000\" face=\"Verdana, Arial, Helvetica, sans-serif\" size=\"2\">May 22, 2018</font></strong>,\n",
       " <strong><font color=\"#000000\" face=\"Verdana, Arial, Helvetica, sans-serif\" size=\"2\">June 20, 2018</font></strong>,\n",
       " <strong>\n",
       " <font color=\"#000000\" face=\"Verdana, Arial, Helvetica, sans-serif\" size=\"2\">July 24, 2018</font></strong>,\n",
       " <strong>August 28, 2018<br/> </strong>,\n",
       " <strong>September 25, 2018<br/></strong>,\n",
       " <strong>October 23, 2018</strong>,\n",
       " <strong>December 4, 2018<br/> </strong>,\n",
       " <strong>Guidelines and Procedures for Public Comment.</strong>]"
      ]
     },
     "execution_count": 6,
     "metadata": {},
     "output_type": "execute_result"
    }
   ],
   "source": [
    "doc.find_all(\"strong\")"
   ]
  },
  {
   "cell_type": "code",
   "execution_count": 7,
   "id": "a5fa209d",
   "metadata": {},
   "outputs": [
    {
     "name": "stdout",
     "output_type": "stream",
     "text": [
      "['January 29, 2018 ', 'January 30, 2018 ', 'February 27, 2018', 'March 20, 2018 ', '\\nApril 24, 2018', '\\nMay 22, 2018', 'June 20, 2018', '\\nJuly 24, 2018', 'August 28, 2018 ', 'September 25, 2018', 'October 23, 2018']\n"
     ]
    }
   ],
   "source": [
    "dates = doc.find_all(\"strong\")[2:13]\n",
    "date_list= []\n",
    "for date in dates:\n",
    "    datetext=date.text\n",
    "    date_list.append(datetext)\n",
    "print(date_list)\n"
   ]
  },
  {
   "cell_type": "code",
   "execution_count": 8,
   "id": "114810f3",
   "metadata": {},
   "outputs": [
    {
     "data": {
      "text/plain": [
       "'/stateboard/Pages/meeting-agendas/2018-02-27.aspx'"
      ]
     },
     "execution_count": 8,
     "metadata": {},
     "output_type": "execute_result"
    }
   ],
   "source": [
    "doc.find_all('tr')[4].find_all('td')[1].find('a')['href']"
   ]
  },
  {
   "cell_type": "code",
   "execution_count": 9,
   "id": "97c9ca28",
   "metadata": {},
   "outputs": [
    {
     "name": "stdout",
     "output_type": "stream",
     "text": [
      "['https://www.marylandpublicschools.org/stateboard/Pages/meeting-agendas/2018-01-29.aspx', 'https://www.marylandpublicschools.org/stateboard/Pages/meeting-agendas/2018-01-30.aspx', 'https://www.marylandpublicschools.org/stateboard/Pages/meeting-agendas/2018-02-27.aspx', 'https://www.marylandpublicschools.org/stateboard/Pages/meeting-agendas/2018-03-20.aspx', 'https://www.marylandpublicschools.org/stateboard/Pages/meeting-agendas/2018-04-24.aspx', 'https://www.marylandpublicschools.org/stateboard/Pages/meeting-agendas/2018-05-22.aspx', 'https://www.marylandpublicschools.org/stateboard/Pages/meeting-agendas/2018-06-20.aspx', 'https://www.marylandpublicschools.org/stateboard/Pages/meeting-agendas/2018-07-24.aspx', 'https://www.marylandpublicschools.org/stateboard/Pages/meeting-agendas/2018-08-28.aspx', 'https://www.marylandpublicschools.org/stateboard/Pages/meeting-agendas/2018-09-25.aspx', 'https://www.marylandpublicschools.org/stateboard/Pages/meeting-agendas/2018-10-23.aspx']\n"
     ]
    }
   ],
   "source": [
    "agendas_list=[]\n",
    "for each_row in doc.find_all('tr')[2:13]:\n",
    "    meeting_agenda = each_row.find_all('td')[1].find('a')['href']\n",
    "    meeting_agenda_url= \"https://www.marylandpublicschools.org\"+ meeting_agenda\n",
    "    agendas_list.append(meeting_agenda_url)\n",
    "print(agendas_list)"
   ]
  },
  {
   "cell_type": "code",
   "execution_count": 10,
   "id": "561579d4",
   "metadata": {},
   "outputs": [
    {
     "name": "stdout",
     "output_type": "stream",
     "text": [
      "['https://www.marylandpublicschools.org/stateboard/Documents/minutes/2018/January292018.pdf', 'https://www.marylandpublicschools.org/stateboard/Documents/minutes/2018/January302018.pdf', 'https://www.marylandpublicschools.org/stateboard/Documents/minutes/2018/February272018.pdf', 'https://www.marylandpublicschools.org/stateboard/Documents/minutes/2018/March202018.pdf', 'https://www.marylandpublicschools.org/stateboard/Documents/minutes/2018/April242018.pdf', 'https://www.marylandpublicschools.org/stateboard/Documents/minutes/2018/May222018.pdf', 'https://www.marylandpublicschools.org/stateboard/Documents/minutes/2018/June202018.pdf', 'https://www.marylandpublicschools.org/stateboard/Documents/minutes/2018/July242018.pdf', 'https://www.marylandpublicschools.org/stateboard/Documents/minutes/2018/August282018.pdf', 'https://www.marylandpublicschools.org/stateboard/Documents/minutes/2018/September252018.pdf', 'https://www.marylandpublicschools.org/stateboard/Documents/minutes/2018/October232018.pdf']\n"
     ]
    }
   ],
   "source": [
    "minutes_list=[]\n",
    "for each_row in doc.find_all('tr')[2:13]:\n",
    "    meeting_minutes = each_row.find_all('td')[2].find('a')['href']\n",
    "    meeting_minutes_url = \"https://www.marylandpublicschools.org\"+ meeting_minutes\n",
    "    minutes_list.append(meeting_minutes_url)\n",
    "print(minutes_list)"
   ]
  },
  {
   "cell_type": "code",
   "execution_count": 11,
   "id": "9632a8df",
   "metadata": {},
   "outputs": [
    {
     "data": {
      "text/plain": [
       "[{'date': 'January 29, 2018 ',\n",
       "  'agenda': 'https://www.marylandpublicschools.org/stateboard/Pages/meeting-agendas/2018-01-29.aspx',\n",
       "  'minutes': 'https://www.marylandpublicschools.org/stateboard/Documents/minutes/2018/January292018.pdf'},\n",
       " {'date': 'January 30, 2018 ',\n",
       "  'agenda': 'https://www.marylandpublicschools.org/stateboard/Pages/meeting-agendas/2018-01-30.aspx',\n",
       "  'minutes': 'https://www.marylandpublicschools.org/stateboard/Documents/minutes/2018/January302018.pdf'},\n",
       " {'date': 'February 27, 2018',\n",
       "  'agenda': 'https://www.marylandpublicschools.org/stateboard/Pages/meeting-agendas/2018-02-27.aspx',\n",
       "  'minutes': 'https://www.marylandpublicschools.org/stateboard/Documents/minutes/2018/February272018.pdf'},\n",
       " {'date': 'March 20, 2018 ',\n",
       "  'agenda': 'https://www.marylandpublicschools.org/stateboard/Pages/meeting-agendas/2018-03-20.aspx',\n",
       "  'minutes': 'https://www.marylandpublicschools.org/stateboard/Documents/minutes/2018/March202018.pdf'},\n",
       " {'date': '\\nApril 24, 2018',\n",
       "  'agenda': 'https://www.marylandpublicschools.org/stateboard/Pages/meeting-agendas/2018-04-24.aspx',\n",
       "  'minutes': 'https://www.marylandpublicschools.org/stateboard/Documents/minutes/2018/April242018.pdf'},\n",
       " {'date': '\\nMay 22, 2018',\n",
       "  'agenda': 'https://www.marylandpublicschools.org/stateboard/Pages/meeting-agendas/2018-05-22.aspx',\n",
       "  'minutes': 'https://www.marylandpublicschools.org/stateboard/Documents/minutes/2018/May222018.pdf'},\n",
       " {'date': 'June 20, 2018',\n",
       "  'agenda': 'https://www.marylandpublicschools.org/stateboard/Pages/meeting-agendas/2018-06-20.aspx',\n",
       "  'minutes': 'https://www.marylandpublicschools.org/stateboard/Documents/minutes/2018/June202018.pdf'},\n",
       " {'date': '\\nJuly 24, 2018',\n",
       "  'agenda': 'https://www.marylandpublicschools.org/stateboard/Pages/meeting-agendas/2018-07-24.aspx',\n",
       "  'minutes': 'https://www.marylandpublicschools.org/stateboard/Documents/minutes/2018/July242018.pdf'},\n",
       " {'date': 'August 28, 2018 ',\n",
       "  'agenda': 'https://www.marylandpublicschools.org/stateboard/Pages/meeting-agendas/2018-08-28.aspx',\n",
       "  'minutes': 'https://www.marylandpublicschools.org/stateboard/Documents/minutes/2018/August282018.pdf'},\n",
       " {'date': 'September 25, 2018',\n",
       "  'agenda': 'https://www.marylandpublicschools.org/stateboard/Pages/meeting-agendas/2018-09-25.aspx',\n",
       "  'minutes': 'https://www.marylandpublicschools.org/stateboard/Documents/minutes/2018/September252018.pdf'},\n",
       " {'date': 'October 23, 2018',\n",
       "  'agenda': 'https://www.marylandpublicschools.org/stateboard/Pages/meeting-agendas/2018-10-23.aspx',\n",
       "  'minutes': 'https://www.marylandpublicschools.org/stateboard/Documents/minutes/2018/October232018.pdf'}]"
      ]
     },
     "execution_count": 11,
     "metadata": {},
     "output_type": "execute_result"
    }
   ],
   "source": [
    "data = []\n",
    "\n",
    "for each_row in doc.find_all('tr')[2:13]:\n",
    "    data_entry = {}\n",
    "    \n",
    "    data_entry['date'] = each_row.find(\"strong\").text\n",
    "    data_entry['agenda'] = \"https://www.marylandpublicschools.org\"+ each_row.find_all('td')[1].find('a')['href']\n",
    "    data_entry['minutes']= \"https://www.marylandpublicschools.org\"+ each_row.find_all('td')[2].find('a')['href']\n",
    "#     print(\"https://www.marylandpublicschools.org\"+ each_row.find_all('td')[1].find('a')['href'])\n",
    "#     print(\"https://www.marylandpublicschools.org\"+ each_row.find_all('td')[2].find('a')['href'])\n",
    "    \n",
    "#     print(each_row.find(\"strong\").text)\n",
    "#     print(\"https://www.marylandpublicschools.org\"+ each_row.find_all('td')[1].find('a')['href'])\n",
    "#     print(\"https://www.marylandpublicschools.org\"+ each_row.find_all('td')[2].find('a')['href'])\n",
    "    \n",
    "    data.append(data_entry)\n",
    "    \n",
    "data"
   ]
  },
  {
   "cell_type": "code",
   "execution_count": 12,
   "id": "6fcfde03",
   "metadata": {},
   "outputs": [
    {
     "data": {
      "text/html": [
       "<div>\n",
       "<style scoped>\n",
       "    .dataframe tbody tr th:only-of-type {\n",
       "        vertical-align: middle;\n",
       "    }\n",
       "\n",
       "    .dataframe tbody tr th {\n",
       "        vertical-align: top;\n",
       "    }\n",
       "\n",
       "    .dataframe thead th {\n",
       "        text-align: right;\n",
       "    }\n",
       "</style>\n",
       "<table border=\"1\" class=\"dataframe\">\n",
       "  <thead>\n",
       "    <tr style=\"text-align: right;\">\n",
       "      <th></th>\n",
       "      <th>date</th>\n",
       "      <th>agenda</th>\n",
       "      <th>minutes</th>\n",
       "    </tr>\n",
       "  </thead>\n",
       "  <tbody>\n",
       "    <tr>\n",
       "      <th>0</th>\n",
       "      <td>January 29, 2018</td>\n",
       "      <td>https://www.marylandpublicschools.org/stateboa...</td>\n",
       "      <td>https://www.marylandpublicschools.org/stateboa...</td>\n",
       "    </tr>\n",
       "    <tr>\n",
       "      <th>1</th>\n",
       "      <td>January 30, 2018</td>\n",
       "      <td>https://www.marylandpublicschools.org/stateboa...</td>\n",
       "      <td>https://www.marylandpublicschools.org/stateboa...</td>\n",
       "    </tr>\n",
       "    <tr>\n",
       "      <th>2</th>\n",
       "      <td>February 27, 2018</td>\n",
       "      <td>https://www.marylandpublicschools.org/stateboa...</td>\n",
       "      <td>https://www.marylandpublicschools.org/stateboa...</td>\n",
       "    </tr>\n",
       "    <tr>\n",
       "      <th>3</th>\n",
       "      <td>March 20, 2018</td>\n",
       "      <td>https://www.marylandpublicschools.org/stateboa...</td>\n",
       "      <td>https://www.marylandpublicschools.org/stateboa...</td>\n",
       "    </tr>\n",
       "    <tr>\n",
       "      <th>4</th>\n",
       "      <td>\\nApril 24, 2018</td>\n",
       "      <td>https://www.marylandpublicschools.org/stateboa...</td>\n",
       "      <td>https://www.marylandpublicschools.org/stateboa...</td>\n",
       "    </tr>\n",
       "    <tr>\n",
       "      <th>5</th>\n",
       "      <td>\\nMay 22, 2018</td>\n",
       "      <td>https://www.marylandpublicschools.org/stateboa...</td>\n",
       "      <td>https://www.marylandpublicschools.org/stateboa...</td>\n",
       "    </tr>\n",
       "    <tr>\n",
       "      <th>6</th>\n",
       "      <td>June 20, 2018</td>\n",
       "      <td>https://www.marylandpublicschools.org/stateboa...</td>\n",
       "      <td>https://www.marylandpublicschools.org/stateboa...</td>\n",
       "    </tr>\n",
       "    <tr>\n",
       "      <th>7</th>\n",
       "      <td>\\nJuly 24, 2018</td>\n",
       "      <td>https://www.marylandpublicschools.org/stateboa...</td>\n",
       "      <td>https://www.marylandpublicschools.org/stateboa...</td>\n",
       "    </tr>\n",
       "    <tr>\n",
       "      <th>8</th>\n",
       "      <td>August 28, 2018</td>\n",
       "      <td>https://www.marylandpublicschools.org/stateboa...</td>\n",
       "      <td>https://www.marylandpublicschools.org/stateboa...</td>\n",
       "    </tr>\n",
       "    <tr>\n",
       "      <th>9</th>\n",
       "      <td>September 25, 2018</td>\n",
       "      <td>https://www.marylandpublicschools.org/stateboa...</td>\n",
       "      <td>https://www.marylandpublicschools.org/stateboa...</td>\n",
       "    </tr>\n",
       "    <tr>\n",
       "      <th>10</th>\n",
       "      <td>October 23, 2018</td>\n",
       "      <td>https://www.marylandpublicschools.org/stateboa...</td>\n",
       "      <td>https://www.marylandpublicschools.org/stateboa...</td>\n",
       "    </tr>\n",
       "  </tbody>\n",
       "</table>\n",
       "</div>"
      ],
      "text/plain": [
       "                  date                                             agenda  \\\n",
       "0    January 29, 2018   https://www.marylandpublicschools.org/stateboa...   \n",
       "1    January 30, 2018   https://www.marylandpublicschools.org/stateboa...   \n",
       "2    February 27, 2018  https://www.marylandpublicschools.org/stateboa...   \n",
       "3      March 20, 2018   https://www.marylandpublicschools.org/stateboa...   \n",
       "4     \\nApril 24, 2018  https://www.marylandpublicschools.org/stateboa...   \n",
       "5       \\nMay 22, 2018  https://www.marylandpublicschools.org/stateboa...   \n",
       "6        June 20, 2018  https://www.marylandpublicschools.org/stateboa...   \n",
       "7      \\nJuly 24, 2018  https://www.marylandpublicschools.org/stateboa...   \n",
       "8     August 28, 2018   https://www.marylandpublicschools.org/stateboa...   \n",
       "9   September 25, 2018  https://www.marylandpublicschools.org/stateboa...   \n",
       "10    October 23, 2018  https://www.marylandpublicschools.org/stateboa...   \n",
       "\n",
       "                                              minutes  \n",
       "0   https://www.marylandpublicschools.org/stateboa...  \n",
       "1   https://www.marylandpublicschools.org/stateboa...  \n",
       "2   https://www.marylandpublicschools.org/stateboa...  \n",
       "3   https://www.marylandpublicschools.org/stateboa...  \n",
       "4   https://www.marylandpublicschools.org/stateboa...  \n",
       "5   https://www.marylandpublicschools.org/stateboa...  \n",
       "6   https://www.marylandpublicschools.org/stateboa...  \n",
       "7   https://www.marylandpublicschools.org/stateboa...  \n",
       "8   https://www.marylandpublicschools.org/stateboa...  \n",
       "9   https://www.marylandpublicschools.org/stateboa...  \n",
       "10  https://www.marylandpublicschools.org/stateboa...  "
      ]
     },
     "execution_count": 12,
     "metadata": {},
     "output_type": "execute_result"
    }
   ],
   "source": [
    "df= pd.DataFrame(data)\n",
    "df"
   ]
  },
  {
   "cell_type": "code",
   "execution_count": null,
   "id": "05c8e99d",
   "metadata": {},
   "outputs": [],
   "source": []
  }
 ],
 "metadata": {
  "kernelspec": {
   "display_name": "Python 3 (ipykernel)",
   "language": "python",
   "name": "python3"
  },
  "language_info": {
   "codemirror_mode": {
    "name": "ipython",
    "version": 3
   },
   "file_extension": ".py",
   "mimetype": "text/x-python",
   "name": "python",
   "nbconvert_exporter": "python",
   "pygments_lexer": "ipython3",
   "version": "3.10.3"
  }
 },
 "nbformat": 4,
 "nbformat_minor": 5
}
